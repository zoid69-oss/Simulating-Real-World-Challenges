{
 "cells": [
  {
   "attachments": {
    "dff6a04d-f41d-4c78-95a2-f02228913d06.png": {
     "image/png": "[encoded data removed]"
    }
   },
   "cell_type": "markdown",
   "id": "5802ff92",
   "metadata": {
    "papermill": {
     "duration": 0.011619,
     "end_time": "2023-11-06T05:23:22.186678",
     "exception": false,
     "start_time": "2023-11-06T05:23:22.175059",
     "status": "completed"
    },
    "tags": []
   },
   "source": [
    "# [Optiver] Simple LGBM for beginner\n",
    "\n",
    "\n",
    "\n",
    "This competition is to build the model to predict the closing price movements for hundreds of Nasdaq listed stocks using data from the order book and the closing auction of the stockthe closing price movements for hundreds of Nasdaq listed stocks using data from the order book and the closing auction of the stock.  \n",
    "In my impression, many competitions of recent Kagglerecent Kaggle were for Image recognition or Natural language processing, and we haven't had Table competition for a long time.  \n",
    "\n",
    "\n",
    "\n",
    "![image.png](attachment:dff6a04d-f41d-4c78-95a2-f02228913d06.png)"
   ]
  },
  {
   "cell_type": "markdown",
   "id": "59341bb9",
   "metadata": {
    "papermill": {
     "duration": 0.010815,
     "end_time": "2023-11-06T05:23:22.209544",
     "exception": false,
     "start_time": "2023-11-06T05:23:22.198729",
     "status": "completed"
    },
    "tags": []
   },
   "source": [
    "### Source\n",
    " - https://github.com/hyperopt/hyperopt\n",
    " - https://github.com/autonomio/talos\n",
    " - https://towardsdatascience.com/a-guide-to-an-efficient-way-to-build-neural-network-architectures-part-i-hyper-parameter-8129009f131b"
   ]
  },
  {
   "cell_type": "markdown",
   "id": "12bc441e",
   "metadata": {
    "papermill": {
     "duration": 0.010762,
     "end_time": "2023-11-06T05:23:22.231671",
     "exception": false,
     "start_time": "2023-11-06T05:23:22.220909",
     "status": "completed"
    },
    "tags": []
   },
   "source": [
    "# 1. Baseline\n",
    "\n",
    "First, just as a baseline, let's feed the training data into LightGBM and see how good public score is.\n"
   ]
  },
  {
   "cell_type": "code",
   "execution_count": 1,
   "id": "5a08422c",
   "metadata": {
    "_cell_guid": "b1076dfc-b9ad-4769-8c92-a6c4dae69d19",
    "_uuid": "8f2839f25d086af736a60e9eeb907d3b93b6e0e5",
    "execution": {
     "iopub.execute_input": "2023-11-06T05:23:22.255357Z",
     "iopub.status.busy": "2023-11-06T05:23:22.255048Z",
     "iopub.status.idle": "2023-11-06T05:23:27.257176Z",
     "shell.execute_reply": "2023-11-06T05:23:27.256386Z"
    },
    "papermill": {
     "duration": 5.016657,
     "end_time": "2023-11-06T05:23:27.259476",
     "exception": false,
     "start_time": "2023-11-06T05:23:22.242819",
     "status": "completed"
    },
    "tags": []
   },
   "outputs": [],
   "source": [
    "import os\n",
    "import pandas as pd\n",
    "import numpy as np\n",
    "import matplotlib.pyplot as plt\n",
    "%matplotlib inline\n",
    "import warnings\n",
    "warnings.filterwarnings('ignore')\n",
    "import optuna\n",
    "\n",
    "from sklearn.model_selection import KFold\n",
    "from sklearn.metrics import mean_absolute_error\n",
    "import lightgbm as lgbm\n",
    "\n",
    "optuna.logging.set_verbosity(optuna.logging.WARNING)\n",
    "import warnings\n",
    "warnings.filterwarnings('ignore')\n",
    "\n",
    "from lightgbm import *\n",
    "pd.set_option(\"display.max_columns\", None)"
   ]
  },
  {
   "cell_type": "code",
   "execution_count": 2,
   "id": "595f9443",
   "metadata": {
    "execution": {
     "iopub.execute_input": "2023-11-06T05:23:27.283866Z",
     "iopub.status.busy": "2023-11-06T05:23:27.283576Z",
     "iopub.status.idle": "2023-11-06T05:23:44.955046Z",
     "shell.execute_reply": "2023-11-06T05:23:44.954040Z"
    },
    "papermill": {
     "duration": 17.686348,
     "end_time": "2023-11-06T05:23:44.957505",
     "exception": false,
     "start_time": "2023-11-06T05:23:27.271157",
     "status": "completed"
    },
    "tags": []
   },
   "outputs": [],
   "source": [
    "df_train = pd.read_csv('../input/optiver-trading-at-the-close/train.csv')\n",
    "df_test = pd.read_csv('../input/optiver-trading-at-the-close/example_test_files/test.csv')\n",
    "sample_sub = pd.read_csv('../input/optiver-trading-at-the-close/example_test_files/sample_submission.csv')\n",
    "rev_target = pd.read_csv('../input/optiver-trading-at-the-close/example_test_files/revealed_targets.csv')"
   ]
  },
  {
   "cell_type": "code",
   "execution_count": 3,
   "id": "b11cdfdc",
   "metadata": {
    "execution": {
     "iopub.execute_input": "2023-11-06T05:23:44.981868Z",
     "iopub.status.busy": "2023-11-06T05:23:44.981548Z",
     "iopub.status.idle": "2023-11-06T05:23:45.019546Z",
     "shell.execute_reply": "2023-11-06T05:23:45.018658Z"
    },
    "papermill": {
     "duration": 0.052657,
     "end_time": "2023-11-06T05:23:45.021608",
     "exception": false,
     "start_time": "2023-11-06T05:23:44.968951",
     "status": "completed"
    },
    "tags": []
   },
   "outputs": [
    {
     "data": {
      "text/html": [
       "<div>\n",
       "<style scoped>\n",
       "    .dataframe tbody tr th:only-of-type {\n",
       "        vertical-align: middle;\n",
       "    }\n",
       "\n",
       "    .dataframe tbody tr th {\n",
       "        vertical-align: top;\n",
       "    }\n",
       "\n",
       "    .dataframe thead th {\n",
       "        text-align: right;\n",
       "    }\n",
       "</style>\n",
       "<table border=\"1\" class=\"dataframe\">\n",
       "  <thead>\n",
       "    <tr style=\"text-align: right;\">\n",
       "      <th></th>\n",
       "      <th>stock_id</th>\n",
       "      <th>date_id</th>\n",
       "      <th>seconds_in_bucket</th>\n",
       "      <th>imbalance_size</th>\n",
       "      <th>imbalance_buy_sell_flag</th>\n",
       "      <th>reference_price</th>\n",
       "      <th>matched_size</th>\n",
       "      <th>far_price</th>\n",
       "      <th>near_price</th>\n",
       "      <th>bid_price</th>\n",
       "      <th>bid_size</th>\n",
       "      <th>ask_price</th>\n",
       "      <th>ask_size</th>\n",
       "      <th>wap</th>\n",
       "      <th>target</th>\n",
       "      <th>time_id</th>\n",
       "      <th>row_id</th>\n",
       "    </tr>\n",
       "  </thead>\n",
       "  <tbody>\n",
       "    <tr>\n",
       "      <th>0</th>\n",
       "      <td>0</td>\n",
       "      <td>0</td>\n",
       "      <td>0</td>\n",
       "      <td>3180602.69</td>\n",
       "      <td>1</td>\n",
       "      <td>0.999812</td>\n",
       "      <td>13380276.64</td>\n",
       "      <td>NaN</td>\n",
       "      <td>NaN</td>\n",
       "      <td>0.999812</td>\n",
       "      <td>60651.50</td>\n",
       "      <td>1.000026</td>\n",
       "      <td>8493.03</td>\n",
       "      <td>1.000000</td>\n",
       "      <td>-3.029704</td>\n",
       "      <td>0</td>\n",
       "      <td>0_0_0</td>\n",
       "    </tr>\n",
       "    <tr>\n",
       "      <th>1</th>\n",
       "      <td>1</td>\n",
       "      <td>0</td>\n",
       "      <td>0</td>\n",
       "      <td>166603.91</td>\n",
       "      <td>-1</td>\n",
       "      <td>0.999896</td>\n",
       "      <td>1642214.25</td>\n",
       "      <td>NaN</td>\n",
       "      <td>NaN</td>\n",
       "      <td>0.999896</td>\n",
       "      <td>3233.04</td>\n",
       "      <td>1.000660</td>\n",
       "      <td>20605.09</td>\n",
       "      <td>1.000000</td>\n",
       "      <td>-5.519986</td>\n",
       "      <td>0</td>\n",
       "      <td>0_0_1</td>\n",
       "    </tr>\n",
       "    <tr>\n",
       "      <th>2</th>\n",
       "      <td>2</td>\n",
       "      <td>0</td>\n",
       "      <td>0</td>\n",
       "      <td>302879.87</td>\n",
       "      <td>-1</td>\n",
       "      <td>0.999561</td>\n",
       "      <td>1819368.03</td>\n",
       "      <td>NaN</td>\n",
       "      <td>NaN</td>\n",
       "      <td>0.999403</td>\n",
       "      <td>37956.00</td>\n",
       "      <td>1.000298</td>\n",
       "      <td>18995.00</td>\n",
       "      <td>1.000000</td>\n",
       "      <td>-8.389950</td>\n",
       "      <td>0</td>\n",
       "      <td>0_0_2</td>\n",
       "    </tr>\n",
       "    <tr>\n",
       "      <th>3</th>\n",
       "      <td>3</td>\n",
       "      <td>0</td>\n",
       "      <td>0</td>\n",
       "      <td>11917682.27</td>\n",
       "      <td>-1</td>\n",
       "      <td>1.000171</td>\n",
       "      <td>18389745.62</td>\n",
       "      <td>NaN</td>\n",
       "      <td>NaN</td>\n",
       "      <td>0.999999</td>\n",
       "      <td>2324.90</td>\n",
       "      <td>1.000214</td>\n",
       "      <td>479032.40</td>\n",
       "      <td>1.000000</td>\n",
       "      <td>-4.010200</td>\n",
       "      <td>0</td>\n",
       "      <td>0_0_3</td>\n",
       "    </tr>\n",
       "    <tr>\n",
       "      <th>4</th>\n",
       "      <td>4</td>\n",
       "      <td>0</td>\n",
       "      <td>0</td>\n",
       "      <td>447549.96</td>\n",
       "      <td>-1</td>\n",
       "      <td>0.999532</td>\n",
       "      <td>17860614.95</td>\n",
       "      <td>NaN</td>\n",
       "      <td>NaN</td>\n",
       "      <td>0.999394</td>\n",
       "      <td>16485.54</td>\n",
       "      <td>1.000016</td>\n",
       "      <td>434.10</td>\n",
       "      <td>1.000000</td>\n",
       "      <td>-7.349849</td>\n",
       "      <td>0</td>\n",
       "      <td>0_0_4</td>\n",
       "    </tr>\n",
       "    <tr>\n",
       "      <th>...</th>\n",
       "      <td>...</td>\n",
       "      <td>...</td>\n",
       "      <td>...</td>\n",
       "      <td>...</td>\n",
       "      <td>...</td>\n",
       "      <td>...</td>\n",
       "      <td>...</td>\n",
       "      <td>...</td>\n",
       "      <td>...</td>\n",
       "      <td>...</td>\n",
       "      <td>...</td>\n",
       "      <td>...</td>\n",
       "      <td>...</td>\n",
       "      <td>...</td>\n",
       "      <td>...</td>\n",
       "      <td>...</td>\n",
       "      <td>...</td>\n",
       "    </tr>\n",
       "    <tr>\n",
       "      <th>5237975</th>\n",
       "      <td>195</td>\n",
       "      <td>480</td>\n",
       "      <td>540</td>\n",
       "      <td>2440722.89</td>\n",
       "      <td>-1</td>\n",
       "      <td>1.000317</td>\n",
       "      <td>28280361.74</td>\n",
       "      <td>0.999734</td>\n",
       "      <td>0.999734</td>\n",
       "      <td>1.000317</td>\n",
       "      <td>32257.04</td>\n",
       "      <td>1.000434</td>\n",
       "      <td>319862.40</td>\n",
       "      <td>1.000328</td>\n",
       "      <td>2.310276</td>\n",
       "      <td>26454</td>\n",
       "      <td>480_540_195</td>\n",
       "    </tr>\n",
       "    <tr>\n",
       "      <th>5237976</th>\n",
       "      <td>196</td>\n",
       "      <td>480</td>\n",
       "      <td>540</td>\n",
       "      <td>349510.47</td>\n",
       "      <td>-1</td>\n",
       "      <td>1.000643</td>\n",
       "      <td>9187699.11</td>\n",
       "      <td>1.000129</td>\n",
       "      <td>1.000386</td>\n",
       "      <td>1.000643</td>\n",
       "      <td>205108.40</td>\n",
       "      <td>1.000900</td>\n",
       "      <td>93393.07</td>\n",
       "      <td>1.000819</td>\n",
       "      <td>-8.220077</td>\n",
       "      <td>26454</td>\n",
       "      <td>480_540_196</td>\n",
       "    </tr>\n",
       "    <tr>\n",
       "      <th>5237977</th>\n",
       "      <td>197</td>\n",
       "      <td>480</td>\n",
       "      <td>540</td>\n",
       "      <td>0.00</td>\n",
       "      <td>0</td>\n",
       "      <td>0.995789</td>\n",
       "      <td>12725436.10</td>\n",
       "      <td>0.995789</td>\n",
       "      <td>0.995789</td>\n",
       "      <td>0.995789</td>\n",
       "      <td>16790.66</td>\n",
       "      <td>0.995883</td>\n",
       "      <td>180038.32</td>\n",
       "      <td>0.995797</td>\n",
       "      <td>1.169443</td>\n",
       "      <td>26454</td>\n",
       "      <td>480_540_197</td>\n",
       "    </tr>\n",
       "    <tr>\n",
       "      <th>5237978</th>\n",
       "      <td>198</td>\n",
       "      <td>480</td>\n",
       "      <td>540</td>\n",
       "      <td>1000898.84</td>\n",
       "      <td>1</td>\n",
       "      <td>0.999210</td>\n",
       "      <td>94773271.05</td>\n",
       "      <td>0.999210</td>\n",
       "      <td>0.999210</td>\n",
       "      <td>0.998970</td>\n",
       "      <td>125631.72</td>\n",
       "      <td>0.999210</td>\n",
       "      <td>669893.00</td>\n",
       "      <td>0.999008</td>\n",
       "      <td>-1.540184</td>\n",
       "      <td>26454</td>\n",
       "      <td>480_540_198</td>\n",
       "    </tr>\n",
       "    <tr>\n",
       "      <th>5237979</th>\n",
       "      <td>199</td>\n",
       "      <td>480</td>\n",
       "      <td>540</td>\n",
       "      <td>1884285.71</td>\n",
       "      <td>-1</td>\n",
       "      <td>1.002129</td>\n",
       "      <td>24073677.32</td>\n",
       "      <td>1.000859</td>\n",
       "      <td>1.001494</td>\n",
       "      <td>1.002129</td>\n",
       "      <td>250081.44</td>\n",
       "      <td>1.002447</td>\n",
       "      <td>300167.56</td>\n",
       "      <td>1.002274</td>\n",
       "      <td>-6.530285</td>\n",
       "      <td>26454</td>\n",
       "      <td>480_540_199</td>\n",
       "    </tr>\n",
       "  </tbody>\n",
       "</table>\n",
       "<p>5237980 rows × 17 columns</p>\n",
       "</div>"
      ],
      "text/plain": [
       "         stock_id  date_id  seconds_in_bucket  imbalance_size  \\\n",
       "0               0        0                  0      3180602.69   \n",
       "1               1        0                  0       166603.91   \n",
       "2               2        0                  0       302879.87   \n",
       "3               3        0                  0     11917682.27   \n",
       "4               4        0                  0       447549.96   \n",
       "...           ...      ...                ...             ...   \n",
       "5237975       195      480                540      2440722.89   \n",
       "5237976       196      480                540       349510.47   \n",
       "5237977       197      480                540            0.00   \n",
       "5237978       198      480                540      1000898.84   \n",
       "5237979       199      480                540      1884285.71   \n",
       "\n",
       "         imbalance_buy_sell_flag  reference_price  matched_size  far_price  \\\n",
       "0                              1         0.999812   13380276.64        NaN   \n",
       "1                             -1         0.999896    1642214.25        NaN   \n",
       "2                             -1         0.999561    1819368.03        NaN   \n",
       "3                             -1         1.000171   18389745.62        NaN   \n",
       "4                             -1         0.999532   17860614.95        NaN   \n",
       "...                          ...              ...           ...        ...   \n",
       "5237975                       -1         1.000317   28280361.74   0.999734   \n",
       "5237976                       -1         1.000643    9187699.11   1.000129   \n",
       "5237977                        0         0.995789   12725436.10   0.995789   \n",
       "5237978                        1         0.999210   94773271.05   0.999210   \n",
       "5237979                       -1         1.002129   24073677.32   1.000859   \n",
       "\n",
       "         near_price  bid_price   bid_size  ask_price   ask_size       wap  \\\n",
       "0               NaN   0.999812   60651.50   1.000026    8493.03  1.000000   \n",
       "1               NaN   0.999896    3233.04   1.000660   20605.09  1.000000   \n",
       "2               NaN   0.999403   37956.00   1.000298   18995.00  1.000000   \n",
       "3               NaN   0.999999    2324.90   1.000214  479032.40  1.000000   \n",
       "4               NaN   0.999394   16485.54   1.000016     434.10  1.000000   \n",
       "...             ...        ...        ...        ...        ...       ...   \n",
       "5237975    0.999734   1.000317   32257.04   1.000434  319862.40  1.000328   \n",
       "5237976    1.000386   1.000643  205108.40   1.000900   93393.07  1.000819   \n",
       "5237977    0.995789   0.995789   16790.66   0.995883  180038.32  0.995797   \n",
       "5237978    0.999210   0.998970  125631.72   0.999210  669893.00  0.999008   \n",
       "5237979    1.001494   1.002129  250081.44   1.002447  300167.56  1.002274   \n",
       "\n",
       "           target  time_id       row_id  \n",
       "0       -3.029704        0        0_0_0  \n",
       "1       -5.519986        0        0_0_1  \n",
       "2       -8.389950        0        0_0_2  \n",
       "3       -4.010200        0        0_0_3  \n",
       "4       -7.349849        0        0_0_4  \n",
       "...           ...      ...          ...  \n",
       "5237975  2.310276    26454  480_540_195  \n",
       "5237976 -8.220077    26454  480_540_196  \n",
       "5237977  1.169443    26454  480_540_197  \n",
       "5237978 -1.540184    26454  480_540_198  \n",
       "5237979 -6.530285    26454  480_540_199  \n",
       "\n",
       "[5237980 rows x 17 columns]"
      ]
     },
     "execution_count": 3,
     "metadata": {},
     "output_type": "execute_result"
    }
   ],
   "source": [
    "df_train"
   ]
  },
  {
   "cell_type": "code",
   "execution_count": 4,
   "id": "c6e58f9a",
   "metadata": {
    "execution": {
     "iopub.execute_input": "2023-11-06T05:23:45.046567Z",
     "iopub.status.busy": "2023-11-06T05:23:45.046271Z",
     "iopub.status.idle": "2023-11-06T05:23:45.050820Z",
     "shell.execute_reply": "2023-11-06T05:23:45.049991Z"
    },
    "papermill": {
     "duration": 0.01916,
     "end_time": "2023-11-06T05:23:45.052827",
     "exception": false,
     "start_time": "2023-11-06T05:23:45.033667",
     "status": "completed"
    },
    "tags": []
   },
   "outputs": [],
   "source": [
    "def feature_cols(df) :\n",
    "    cols = [c for c in df.columns if c not in ['row_id', 'time_id', 'date_id']]\n",
    "    df = df[cols]    \n",
    "    return df"
   ]
  },
  {
   "cell_type": "code",
   "execution_count": 5,
   "id": "b176d47f",
   "metadata": {
    "execution": {
     "iopub.execute_input": "2023-11-06T05:23:45.078427Z",
     "iopub.status.busy": "2023-11-06T05:23:45.078155Z",
     "iopub.status.idle": "2023-11-06T05:23:46.651889Z",
     "shell.execute_reply": "2023-11-06T05:23:46.650872Z"
    },
    "papermill": {
     "duration": 1.588707,
     "end_time": "2023-11-06T05:23:46.654342",
     "exception": false,
     "start_time": "2023-11-06T05:23:45.065635",
     "status": "completed"
    },
    "tags": []
   },
   "outputs": [],
   "source": [
    "df_train.fillna(0, inplace = True)\n",
    "x_train = feature_cols(df_train.drop(columns='target'))\n",
    "y_train = df_train['target'].values"
   ]
  },
  {
   "cell_type": "code",
   "execution_count": 6,
   "id": "32fc8090",
   "metadata": {
    "execution": {
     "iopub.execute_input": "2023-11-06T05:23:46.678931Z",
     "iopub.status.busy": "2023-11-06T05:23:46.678629Z",
     "iopub.status.idle": "2023-11-06T05:26:10.030423Z",
     "shell.execute_reply": "2023-11-06T05:26:10.029473Z"
    },
    "papermill": {
     "duration": 143.374309,
     "end_time": "2023-11-06T05:26:10.040520",
     "exception": false,
     "start_time": "2023-11-06T05:23:46.666211",
     "status": "completed"
    },
    "tags": []
   },
   "outputs": [
    {
     "data": {
      "text/html": [
       "<style>#sk-container-id-1 {color: black;background-color: white;}#sk-container-id-1 pre{padding: 0;}#sk-container-id-1 div.sk-toggleable {background-color: white;}#sk-container-id-1 label.sk-toggleable__label {cursor: pointer;display: block;width: 100%;margin-bottom: 0;padding: 0.3em;box-sizing: border-box;text-align: center;}#sk-container-id-1 label.sk-toggleable__label-arrow:before {content: \"▸\";float: left;margin-right: 0.25em;color: #696969;}#sk-container-id-1 label.sk-toggleable__label-arrow:hover:before {color: black;}#sk-container-id-1 div.sk-estimator:hover label.sk-toggleable__label-arrow:before {color: black;}#sk-container-id-1 div.sk-toggleable__content {max-height: 0;max-width: 0;overflow: hidden;text-align: left;background-color: #f0f8ff;}#sk-container-id-1 div.sk-toggleable__content pre {margin: 0.2em;color: black;border-radius: 0.25em;background-color: #f0f8ff;}#sk-container-id-1 input.sk-toggleable__control:checked~div.sk-toggleable__content {max-height: 200px;max-width: 100%;overflow: auto;}#sk-container-id-1 input.sk-toggleable__control:checked~label.sk-toggleable__label-arrow:before {content: \"▾\";}#sk-container-id-1 div.sk-estimator input.sk-toggleable__control:checked~label.sk-toggleable__label {background-color: #d4ebff;}#sk-container-id-1 div.sk-label input.sk-toggleable__control:checked~label.sk-toggleable__label {background-color: #d4ebff;}#sk-container-id-1 input.sk-hidden--visually {border: 0;clip: rect(1px 1px 1px 1px);clip: rect(1px, 1px, 1px, 1px);height: 1px;margin: -1px;overflow: hidden;padding: 0;position: absolute;width: 1px;}#sk-container-id-1 div.sk-estimator {font-family: monospace;background-color: #f0f8ff;border: 1px dotted black;border-radius: 0.25em;box-sizing: border-box;margin-bottom: 0.5em;}#sk-container-id-1 div.sk-estimator:hover {background-color: #d4ebff;}#sk-container-id-1 div.sk-parallel-item::after {content: \"\";width: 100%;border-bottom: 1px solid gray;flex-grow: 1;}#sk-container-id-1 div.sk-label:hover label.sk-toggleable__label {background-color: #d4ebff;}#sk-container-id-1 div.sk-serial::before {content: \"\";position: absolute;border-left: 1px solid gray;box-sizing: border-box;top: 0;bottom: 0;left: 50%;z-index: 0;}#sk-container-id-1 div.sk-serial {display: flex;flex-direction: column;align-items: center;background-color: white;padding-right: 0.2em;padding-left: 0.2em;position: relative;}#sk-container-id-1 div.sk-item {position: relative;z-index: 1;}#sk-container-id-1 div.sk-parallel {display: flex;align-items: stretch;justify-content: center;background-color: white;position: relative;}#sk-container-id-1 div.sk-item::before, #sk-container-id-1 div.sk-parallel-item::before {content: \"\";position: absolute;border-left: 1px solid gray;box-sizing: border-box;top: 0;bottom: 0;left: 50%;z-index: -1;}#sk-container-id-1 div.sk-parallel-item {display: flex;flex-direction: column;z-index: 1;position: relative;background-color: white;}#sk-container-id-1 div.sk-parallel-item:first-child::after {align-self: flex-end;width: 50%;}#sk-container-id-1 div.sk-parallel-item:last-child::after {align-self: flex-start;width: 50%;}#sk-container-id-1 div.sk-parallel-item:only-child::after {width: 0;}#sk-container-id-1 div.sk-dashed-wrapped {border: 1px dashed gray;margin: 0 0.4em 0.5em 0.4em;box-sizing: border-box;padding-bottom: 0.4em;background-color: white;}#sk-container-id-1 div.sk-label label {font-family: monospace;font-weight: bold;display: inline-block;line-height: 1.2em;}#sk-container-id-1 div.sk-label-container {text-align: center;}#sk-container-id-1 div.sk-container {/* jupyter's `normalize.less` sets `[hidden] { display: none; }` but bootstrap.min.css set `[hidden] { display: none !important; }` so we also need the `!important` here to be able to override the default hidden behavior on the sphinx rendered scikit-learn.org. See: https://github.com/scikit-learn/scikit-learn/issues/21755 */display: inline-block !important;position: relative;}#sk-container-id-1 div.sk-text-repr-fallback {display: none;}</style><div id=\"sk-container-id-1\" class=\"sk-top-container\"><div class=\"sk-text-repr-fallback\"><pre>LGBMRegressor(n_estimators=500, objective=&#x27;mae&#x27;, random_state=1234)</pre><b>In a Jupyter environment, please rerun this cell to show the HTML representation or trust the notebook. <br />On GitHub, the HTML representation is unable to render, please try loading this page with nbviewer.org.</b></div><div class=\"sk-container\" hidden><div class=\"sk-item\"><div class=\"sk-estimator sk-toggleable\"><input class=\"sk-toggleable__control sk-hidden--visually\" id=\"sk-estimator-id-1\" type=\"checkbox\" checked><label for=\"sk-estimator-id-1\" class=\"sk-toggleable__label sk-toggleable__label-arrow\">LGBMRegressor</label><div class=\"sk-toggleable__content\"><pre>LGBMRegressor(n_estimators=500, objective=&#x27;mae&#x27;, random_state=1234)</pre></div></div></div></div></div>"
      ],
      "text/plain": [
       "LGBMRegressor(n_estimators=500, objective='mae', random_state=1234)"
      ]
     },
     "execution_count": 6,
     "metadata": {},
     "output_type": "execute_result"
    }
   ],
   "source": [
    "lgbm_model = lgbm.LGBMRegressor(objective='mae', n_estimators=500, random_state=1234)\n",
    "lgbm_model.fit(x_train, y_train)"
   ]
  },
  {
   "cell_type": "code",
   "execution_count": 7,
   "id": "e4955aa5",
   "metadata": {
    "execution": {
     "iopub.execute_input": "2023-11-06T05:26:10.065624Z",
     "iopub.status.busy": "2023-11-06T05:26:10.065004Z",
     "iopub.status.idle": "2023-11-06T05:26:10.485381Z",
     "shell.execute_reply": "2023-11-06T05:26:10.484468Z"
    },
    "papermill": {
     "duration": 0.435187,
     "end_time": "2023-11-06T05:26:10.487594",
     "exception": false,
     "start_time": "2023-11-06T05:26:10.052407",
     "status": "completed"
    },
    "tags": []
   },
   "outputs": [
    {
     "data": {
      "text/plain": [
       "<Axes: title={'center': 'Feature importance'}, xlabel='Feature importance', ylabel='Features'>"
      ]
     },
     "execution_count": 7,
     "metadata": {},
     "output_type": "execute_result"
    },
    {
     "data": {
      "image/png": "[encoded data removed]",
      "text/plain": [
       "<Figure size 640x480 with 1 Axes>"
      ]
     },
     "metadata": {},
     "output_type": "display_data"
    }
   ],
   "source": [
    "lgbm.plot_importance(lgbm_model, importance_type=\"gain\")"
   ]
  },
  {
   "cell_type": "code",
   "execution_count": 8,
   "id": "bec6da9e",
   "metadata": {
    "execution": {
     "iopub.execute_input": "2023-11-06T05:26:10.514575Z",
     "iopub.status.busy": "2023-11-06T05:26:10.514265Z",
     "iopub.status.idle": "2023-11-06T05:26:10.915171Z",
     "shell.execute_reply": "2023-11-06T05:26:10.914306Z"
    },
    "papermill": {
     "duration": 0.41681,
     "end_time": "2023-11-06T05:26:10.917358",
     "exception": false,
     "start_time": "2023-11-06T05:26:10.500548",
     "status": "completed"
    },
    "tags": []
   },
   "outputs": [
    {
     "data": {
      "text/plain": [
       "<Axes: title={'center': 'Feature importance'}, xlabel='Feature importance', ylabel='Features'>"
      ]
     },
     "execution_count": 8,
     "metadata": {},
     "output_type": "execute_result"
    },
    {
     "data": {
      "image/png": "[encoded data removed]",
      "text/plain": [
       "<Figure size 640x480 with 1 Axes>"
      ]
     },
     "metadata": {},
     "output_type": "display_data"
    }
   ],
   "source": [
    "# splits means number of times a feature is used to split the data across all trees in the model\n",
    "lgbm.plot_importance(lgbm_model, importance_type=\"split\")"
   ]
  },
  {
   "cell_type": "markdown",
   "id": "6c5d33f6",
   "metadata": {
    "papermill": {
     "duration": 0.013211,
     "end_time": "2023-11-06T05:26:10.944406",
     "exception": false,
     "start_time": "2023-11-06T05:26:10.931195",
     "status": "completed"
    },
    "tags": []
   },
   "source": [
    "If you submit at this point, the public score will show **5.3888**, which is not so bad. Let's try some approaches from this baseline.\n"
   ]
  },
  {
   "cell_type": "markdown",
   "id": "7360f688",
   "metadata": {
    "papermill": {
     "duration": 0.013172,
     "end_time": "2023-11-06T05:26:10.970925",
     "exception": false,
     "start_time": "2023-11-06T05:26:10.957753",
     "status": "completed"
    },
    "tags": []
   },
   "source": [
    "# 2. Optimize parameter with Optuna"
   ]
  },
  {
   "cell_type": "markdown",
   "id": "8e8de0e2",
   "metadata": {
    "papermill": {
     "duration": 0.057818,
     "end_time": "2023-11-06T05:26:11.042350",
     "exception": false,
     "start_time": "2023-11-06T05:26:10.984532",
     "status": "completed"
    },
    "tags": []
   },
   "source": [
    "Well, changing the approach here, let's see how the score is improved by optimizing the parameters. I used Optuna for optimization. As a result, Public score was improved to **5.3878**.\n"
   ]
  },
  {
   "cell_type": "code",
   "execution_count": 9,
   "id": "41f21f46",
   "metadata": {
    "execution": {
     "iopub.execute_input": "2023-11-06T05:26:11.071337Z",
     "iopub.status.busy": "2023-11-06T05:26:11.070834Z",
     "iopub.status.idle": "2023-11-06T05:26:11.248400Z",
     "shell.execute_reply": "2023-11-06T05:26:11.247599Z"
    },
    "papermill": {
     "duration": 0.194713,
     "end_time": "2023-11-06T05:26:11.250729",
     "exception": false,
     "start_time": "2023-11-06T05:26:11.056016",
     "status": "completed"
    },
    "tags": []
   },
   "outputs": [],
   "source": [
    "x = x_train.copy()\n",
    "y = y_train.copy()"
   ]
  },
  {
   "cell_type": "code",
   "execution_count": 10,
   "id": "08af7e55",
   "metadata": {
    "execution": {
     "iopub.execute_input": "2023-11-06T05:26:11.280004Z",
     "iopub.status.busy": "2023-11-06T05:26:11.279704Z",
     "iopub.status.idle": "2023-11-06T05:26:11.285436Z",
     "shell.execute_reply": "2023-11-06T05:26:11.284670Z"
    },
    "papermill": {
     "duration": 0.022229,
     "end_time": "2023-11-06T05:26:11.287264",
     "exception": false,
     "start_time": "2023-11-06T05:26:11.265035",
     "status": "completed"
    },
    "tags": []
   },
   "outputs": [],
   "source": [
    "def objective(trial):\n",
    "    params = {\n",
    "        'random_seed':123,\n",
    "        'n_estimators'    :trial.suggest_int('n_estimators', 300, 1000),\n",
    "        'num_leaves'      :trial.suggest_int('num_leaves', 4, 32),\n",
    "        'max_depth'       :trial.suggest_int(\"max_depth\",1,10)}\n",
    "            \n",
    "    model = lgbm.LGBMRegressor(**params)\n",
    "    model.fit(x,y)\n",
    "    y_pred = model.predict(x)\n",
    "    score = mean_absolute_error(y, y_pred)\n",
    "    \n",
    "    return score"
   ]
  },
  {
   "cell_type": "code",
   "execution_count": 11,
   "id": "b8bd71e8",
   "metadata": {
    "execution": {
     "iopub.execute_input": "2023-11-06T05:26:11.315678Z",
     "iopub.status.busy": "2023-11-06T05:26:11.315380Z",
     "iopub.status.idle": "2023-11-06T05:26:11.318974Z",
     "shell.execute_reply": "2023-11-06T05:26:11.318184Z"
    },
    "papermill": {
     "duration": 0.019709,
     "end_time": "2023-11-06T05:26:11.320816",
     "exception": false,
     "start_time": "2023-11-06T05:26:11.301107",
     "status": "completed"
    },
    "tags": []
   },
   "outputs": [],
   "source": [
    "#study = optuna.create_study(sampler=optuna.samplers.RandomSampler(seed=123))\n",
    "#study.optimize(objective, n_trials=50) \n",
    "#study.best_params"
   ]
  },
  {
   "cell_type": "markdown",
   "id": "7ec4db84",
   "metadata": {
    "papermill": {
     "duration": 0.01329,
     "end_time": "2023-11-06T05:26:11.347550",
     "exception": false,
     "start_time": "2023-11-06T05:26:11.334260",
     "status": "completed"
    },
    "tags": []
   },
   "source": [
    "Above optimization is Comment-out, since it takes a couple of hours to run this optimization。If you are curious, it may be interesting if you try to optimize various parameters after removing comment-out."
   ]
  },
  {
   "cell_type": "markdown",
   "id": "7c82d562",
   "metadata": {
    "papermill": {
     "duration": 0.013188,
     "end_time": "2023-11-06T05:26:11.374165",
     "exception": false,
     "start_time": "2023-11-06T05:26:11.360977",
     "status": "completed"
    },
    "tags": []
   },
   "source": [
    "# 3. Add imbalance_size"
   ]
  },
  {
   "cell_type": "markdown",
   "id": "774b3011",
   "metadata": {
    "papermill": {
     "duration": 0.013234,
     "end_time": "2023-11-06T05:26:11.401014",
     "exception": false,
     "start_time": "2023-11-06T05:26:11.387780",
     "status": "completed"
    },
    "tags": []
   },
   "source": [
    "Next, let's see how the score is improved by adding new features.  \n",
    "As you can see the Light GBM \"importance\" in the above Section 1, not Price-related but Size-related features were regarded as important by LightGBM, thus try to create Size-related new features. First, let's create the ratio between imbalance_size and matched_size.  \n",
    "\n",
    "The result is Puclic score was improved to **5.3866** as expected.  "
   ]
  },
  {
   "cell_type": "code",
   "execution_count": 12,
   "id": "ed12b41d",
   "metadata": {
    "execution": {
     "iopub.execute_input": "2023-11-06T05:26:11.429347Z",
     "iopub.status.busy": "2023-11-06T05:26:11.429046Z",
     "iopub.status.idle": "2023-11-06T05:26:11.432826Z",
     "shell.execute_reply": "2023-11-06T05:26:11.431959Z"
    },
    "papermill": {
     "duration": 0.020085,
     "end_time": "2023-11-06T05:26:11.434705",
     "exception": false,
     "start_time": "2023-11-06T05:26:11.414620",
     "status": "completed"
    },
    "tags": []
   },
   "outputs": [],
   "source": [
    "#def pre_process1(df):\n",
    "#    df['imbalance_ratio'] = df['imbalance_size'] / df['matched_size']\n",
    "#    return df"
   ]
  },
  {
   "cell_type": "markdown",
   "id": "2cf1cda9",
   "metadata": {
    "papermill": {
     "duration": 0.013292,
     "end_time": "2023-11-06T05:26:11.461857",
     "exception": false,
     "start_time": "2023-11-06T05:26:11.448565",
     "status": "completed"
    },
    "tags": []
   },
   "source": [
    "# 4. Add imbalance_size"
   ]
  },
  {
   "cell_type": "markdown",
   "id": "6df8a8ac",
   "metadata": {
    "papermill": {
     "duration": 0.013431,
     "end_time": "2023-11-06T05:26:11.489303",
     "exception": false,
     "start_time": "2023-11-06T05:26:11.475872",
     "status": "completed"
    },
    "tags": []
   },
   "source": [
    "Then, let's try to add 2 more features related to imbalance between bid-size and ask-size, which will improve Public score to **5.3852**.  \n",
    "\n",
    "\n",
    "\n",
    "For these features, I referred to below great notebook.   \n",
    "https://www.kaggle.com/code/renatoreggiani/optv-lightgbm"
   ]
  },
  {
   "cell_type": "code",
   "execution_count": 13,
   "id": "336891d7",
   "metadata": {
    "execution": {
     "iopub.execute_input": "2023-11-06T05:26:11.517496Z",
     "iopub.status.busy": "2023-11-06T05:26:11.517219Z",
     "iopub.status.idle": "2023-11-06T05:26:11.520966Z",
     "shell.execute_reply": "2023-11-06T05:26:11.520125Z"
    },
    "papermill": {
     "duration": 0.019938,
     "end_time": "2023-11-06T05:26:11.522835",
     "exception": false,
     "start_time": "2023-11-06T05:26:11.502897",
     "status": "completed"
    },
    "tags": []
   },
   "outputs": [],
   "source": [
    "#def pre_process1(df):\n",
    "#       \n",
    "#    df['imbl_size1'] = (df['bid_size']-df['ask_size']) / (df['bid_size']+df['ask_size'])\n",
    "#    df['imbl_size2'] = (df['imbalance_size']-df['matched_size']) / (df['imbalance_size']+df['matched_size'])\n",
    "#    \n",
    "#    return df"
   ]
  },
  {
   "cell_type": "code",
   "execution_count": 14,
   "id": "4ad4b7ac",
   "metadata": {
    "execution": {
     "iopub.execute_input": "2023-11-06T05:26:11.550950Z",
     "iopub.status.busy": "2023-11-06T05:26:11.550702Z",
     "iopub.status.idle": "2023-11-06T05:26:11.555921Z",
     "shell.execute_reply": "2023-11-06T05:26:11.555198Z"
    },
    "papermill": {
     "duration": 0.021326,
     "end_time": "2023-11-06T05:26:11.557768",
     "exception": false,
     "start_time": "2023-11-06T05:26:11.536442",
     "status": "completed"
    },
    "tags": []
   },
   "outputs": [],
   "source": [
    "# Original\n",
    "# def pre_process1(df):\n",
    "    \n",
    "#     df['imbalance_ratio'] = df['imbalance_size'] / df['matched_size'] \n",
    "#     #---> improve 0.0012\n",
    "    \n",
    "#     df['imbl_size1'] = (df['bid_size']-df['ask_size']) / (df['bid_size']+df['ask_size'])\n",
    "#     df['imbl_size2'] = (df['imbalance_size']-df['matched_size']) / (df['imbalance_size']+df['matched_size'])\n",
    "#     #---> improve 0.0014\n",
    "    \n",
    "#     df['bid_size_diff'] = df[[\"stock_id\", \"date_id\", \"bid_size\"]].groupby([\"stock_id\",\"date_id\"]).diff()\n",
    "#     df['ask_size_diff'] = df[[\"stock_id\", \"date_id\", \"ask_size\"]].groupby([\"stock_id\",\"date_id\"]).diff()\n",
    "#     #<--- \"diff\" doesn't work well\n",
    "    \n",
    "#     df[\"bid_size_over_ask_size\"] = df[\"bid_size\"].div(df[\"ask_size\"])\n",
    "#     df[\"bid_price_over_ask_price\"] = df[\"bid_price\"].div(df[\"ask_price\"])\n",
    "#     #---> improve 0.0018\n",
    "            \n",
    "#     return df"
   ]
  },
  {
   "cell_type": "code",
   "execution_count": 15,
   "id": "ac566134",
   "metadata": {
    "execution": {
     "iopub.execute_input": "2023-11-06T05:26:11.585918Z",
     "iopub.status.busy": "2023-11-06T05:26:11.585676Z",
     "iopub.status.idle": "2023-11-06T05:26:11.591120Z",
     "shell.execute_reply": "2023-11-06T05:26:11.590236Z"
    },
    "papermill": {
     "duration": 0.021705,
     "end_time": "2023-11-06T05:26:11.592951",
     "exception": false,
     "start_time": "2023-11-06T05:26:11.571246",
     "status": "completed"
    },
    "tags": []
   },
   "outputs": [],
   "source": [
    "# Edited\n",
    "def pre_process1(df):\n",
    "    \n",
    "    df['imbalance_ratio'] = df['imbalance_size'] / df['matched_size'] \n",
    "    #---> improve 0.0012\n",
    "    \n",
    "    df['imbl_size1'] = (df['bid_size']-df['ask_size']) / (df['bid_size']+df['ask_size'])\n",
    "    df['imbl_size2'] = (df['imbalance_size']-df['matched_size']) / (df['imbalance_size']+df['matched_size'])\n",
    "    #---> improve 0.0014\n",
    "    \n",
    "#     df['bid_size_diff'] = df[[\"stock_id\", \"date_id\", \"bid_size\"]].groupby([\"stock_id\",\"date_id\"]).diff()\n",
    "#     df['ask_size_diff'] = df[[\"stock_id\", \"date_id\", \"ask_size\"]].groupby([\"stock_id\",\"date_id\"]).diff()\n",
    "#     #<--- \"diff\" doesn't work well\n",
    "    \n",
    "#     df[\"bid_size_over_ask_size\"] = df[\"bid_size\"].div(df[\"ask_size\"])\n",
    "#     df[\"bid_price_over_ask_price\"] = df[\"bid_price\"].div(df[\"ask_price\"])\n",
    "    #---> improve 0.0018\n",
    "            \n",
    "    return df"
   ]
  },
  {
   "cell_type": "code",
   "execution_count": 16,
   "id": "5565c393",
   "metadata": {
    "execution": {
     "iopub.execute_input": "2023-11-06T05:26:11.621299Z",
     "iopub.status.busy": "2023-11-06T05:26:11.621045Z",
     "iopub.status.idle": "2023-11-06T05:26:12.114133Z",
     "shell.execute_reply": "2023-11-06T05:26:12.113241Z"
    },
    "papermill": {
     "duration": 0.509368,
     "end_time": "2023-11-06T05:26:12.116111",
     "exception": false,
     "start_time": "2023-11-06T05:26:11.606743",
     "status": "completed"
    },
    "tags": []
   },
   "outputs": [
    {
     "data": {
      "text/html": [
       "<div>\n",
       "<style scoped>\n",
       "    .dataframe tbody tr th:only-of-type {\n",
       "        vertical-align: middle;\n",
       "    }\n",
       "\n",
       "    .dataframe tbody tr th {\n",
       "        vertical-align: top;\n",
       "    }\n",
       "\n",
       "    .dataframe thead th {\n",
       "        text-align: right;\n",
       "    }\n",
       "</style>\n",
       "<table border=\"1\" class=\"dataframe\">\n",
       "  <thead>\n",
       "    <tr style=\"text-align: right;\">\n",
       "      <th></th>\n",
       "      <th>stock_id</th>\n",
       "      <th>seconds_in_bucket</th>\n",
       "      <th>imbalance_size</th>\n",
       "      <th>imbalance_buy_sell_flag</th>\n",
       "      <th>reference_price</th>\n",
       "      <th>matched_size</th>\n",
       "      <th>far_price</th>\n",
       "      <th>near_price</th>\n",
       "      <th>bid_price</th>\n",
       "      <th>bid_size</th>\n",
       "      <th>ask_price</th>\n",
       "      <th>ask_size</th>\n",
       "      <th>wap</th>\n",
       "      <th>target</th>\n",
       "      <th>imbalance_ratio</th>\n",
       "      <th>imbl_size1</th>\n",
       "      <th>imbl_size2</th>\n",
       "    </tr>\n",
       "  </thead>\n",
       "  <tbody>\n",
       "    <tr>\n",
       "      <th>0</th>\n",
       "      <td>0</td>\n",
       "      <td>0</td>\n",
       "      <td>3180602.69</td>\n",
       "      <td>1</td>\n",
       "      <td>0.999812</td>\n",
       "      <td>13380276.64</td>\n",
       "      <td>0.000000</td>\n",
       "      <td>0.000000</td>\n",
       "      <td>0.999812</td>\n",
       "      <td>60651.50</td>\n",
       "      <td>1.000026</td>\n",
       "      <td>8493.03</td>\n",
       "      <td>1.000000</td>\n",
       "      <td>-3.029704</td>\n",
       "      <td>0.237708</td>\n",
       "      <td>0.754340</td>\n",
       "      <td>-0.615890</td>\n",
       "    </tr>\n",
       "    <tr>\n",
       "      <th>1</th>\n",
       "      <td>1</td>\n",
       "      <td>0</td>\n",
       "      <td>166603.91</td>\n",
       "      <td>-1</td>\n",
       "      <td>0.999896</td>\n",
       "      <td>1642214.25</td>\n",
       "      <td>0.000000</td>\n",
       "      <td>0.000000</td>\n",
       "      <td>0.999896</td>\n",
       "      <td>3233.04</td>\n",
       "      <td>1.000660</td>\n",
       "      <td>20605.09</td>\n",
       "      <td>1.000000</td>\n",
       "      <td>-5.519986</td>\n",
       "      <td>0.101451</td>\n",
       "      <td>-0.728751</td>\n",
       "      <td>-0.815787</td>\n",
       "    </tr>\n",
       "    <tr>\n",
       "      <th>2</th>\n",
       "      <td>2</td>\n",
       "      <td>0</td>\n",
       "      <td>302879.87</td>\n",
       "      <td>-1</td>\n",
       "      <td>0.999561</td>\n",
       "      <td>1819368.03</td>\n",
       "      <td>0.000000</td>\n",
       "      <td>0.000000</td>\n",
       "      <td>0.999403</td>\n",
       "      <td>37956.00</td>\n",
       "      <td>1.000298</td>\n",
       "      <td>18995.00</td>\n",
       "      <td>1.000000</td>\n",
       "      <td>-8.389950</td>\n",
       "      <td>0.166475</td>\n",
       "      <td>0.332935</td>\n",
       "      <td>-0.714567</td>\n",
       "    </tr>\n",
       "    <tr>\n",
       "      <th>3</th>\n",
       "      <td>3</td>\n",
       "      <td>0</td>\n",
       "      <td>11917682.27</td>\n",
       "      <td>-1</td>\n",
       "      <td>1.000171</td>\n",
       "      <td>18389745.62</td>\n",
       "      <td>0.000000</td>\n",
       "      <td>0.000000</td>\n",
       "      <td>0.999999</td>\n",
       "      <td>2324.90</td>\n",
       "      <td>1.000214</td>\n",
       "      <td>479032.40</td>\n",
       "      <td>1.000000</td>\n",
       "      <td>-4.010200</td>\n",
       "      <td>0.648061</td>\n",
       "      <td>-0.990340</td>\n",
       "      <td>-0.213547</td>\n",
       "    </tr>\n",
       "    <tr>\n",
       "      <th>4</th>\n",
       "      <td>4</td>\n",
       "      <td>0</td>\n",
       "      <td>447549.96</td>\n",
       "      <td>-1</td>\n",
       "      <td>0.999532</td>\n",
       "      <td>17860614.95</td>\n",
       "      <td>0.000000</td>\n",
       "      <td>0.000000</td>\n",
       "      <td>0.999394</td>\n",
       "      <td>16485.54</td>\n",
       "      <td>1.000016</td>\n",
       "      <td>434.10</td>\n",
       "      <td>1.000000</td>\n",
       "      <td>-7.349849</td>\n",
       "      <td>0.025058</td>\n",
       "      <td>0.948687</td>\n",
       "      <td>-0.951109</td>\n",
       "    </tr>\n",
       "    <tr>\n",
       "      <th>...</th>\n",
       "      <td>...</td>\n",
       "      <td>...</td>\n",
       "      <td>...</td>\n",
       "      <td>...</td>\n",
       "      <td>...</td>\n",
       "      <td>...</td>\n",
       "      <td>...</td>\n",
       "      <td>...</td>\n",
       "      <td>...</td>\n",
       "      <td>...</td>\n",
       "      <td>...</td>\n",
       "      <td>...</td>\n",
       "      <td>...</td>\n",
       "      <td>...</td>\n",
       "      <td>...</td>\n",
       "      <td>...</td>\n",
       "      <td>...</td>\n",
       "    </tr>\n",
       "    <tr>\n",
       "      <th>5237975</th>\n",
       "      <td>195</td>\n",
       "      <td>540</td>\n",
       "      <td>2440722.89</td>\n",
       "      <td>-1</td>\n",
       "      <td>1.000317</td>\n",
       "      <td>28280361.74</td>\n",
       "      <td>0.999734</td>\n",
       "      <td>0.999734</td>\n",
       "      <td>1.000317</td>\n",
       "      <td>32257.04</td>\n",
       "      <td>1.000434</td>\n",
       "      <td>319862.40</td>\n",
       "      <td>1.000328</td>\n",
       "      <td>2.310276</td>\n",
       "      <td>0.086305</td>\n",
       "      <td>-0.816784</td>\n",
       "      <td>-0.841104</td>\n",
       "    </tr>\n",
       "    <tr>\n",
       "      <th>5237976</th>\n",
       "      <td>196</td>\n",
       "      <td>540</td>\n",
       "      <td>349510.47</td>\n",
       "      <td>-1</td>\n",
       "      <td>1.000643</td>\n",
       "      <td>9187699.11</td>\n",
       "      <td>1.000129</td>\n",
       "      <td>1.000386</td>\n",
       "      <td>1.000643</td>\n",
       "      <td>205108.40</td>\n",
       "      <td>1.000900</td>\n",
       "      <td>93393.07</td>\n",
       "      <td>1.000819</td>\n",
       "      <td>-8.220077</td>\n",
       "      <td>0.038041</td>\n",
       "      <td>0.374254</td>\n",
       "      <td>-0.926706</td>\n",
       "    </tr>\n",
       "    <tr>\n",
       "      <th>5237977</th>\n",
       "      <td>197</td>\n",
       "      <td>540</td>\n",
       "      <td>0.00</td>\n",
       "      <td>0</td>\n",
       "      <td>0.995789</td>\n",
       "      <td>12725436.10</td>\n",
       "      <td>0.995789</td>\n",
       "      <td>0.995789</td>\n",
       "      <td>0.995789</td>\n",
       "      <td>16790.66</td>\n",
       "      <td>0.995883</td>\n",
       "      <td>180038.32</td>\n",
       "      <td>0.995797</td>\n",
       "      <td>1.169443</td>\n",
       "      <td>0.000000</td>\n",
       "      <td>-0.829388</td>\n",
       "      <td>-1.000000</td>\n",
       "    </tr>\n",
       "    <tr>\n",
       "      <th>5237978</th>\n",
       "      <td>198</td>\n",
       "      <td>540</td>\n",
       "      <td>1000898.84</td>\n",
       "      <td>1</td>\n",
       "      <td>0.999210</td>\n",
       "      <td>94773271.05</td>\n",
       "      <td>0.999210</td>\n",
       "      <td>0.999210</td>\n",
       "      <td>0.998970</td>\n",
       "      <td>125631.72</td>\n",
       "      <td>0.999210</td>\n",
       "      <td>669893.00</td>\n",
       "      <td>0.999008</td>\n",
       "      <td>-1.540184</td>\n",
       "      <td>0.010561</td>\n",
       "      <td>-0.684154</td>\n",
       "      <td>-0.979099</td>\n",
       "    </tr>\n",
       "    <tr>\n",
       "      <th>5237979</th>\n",
       "      <td>199</td>\n",
       "      <td>540</td>\n",
       "      <td>1884285.71</td>\n",
       "      <td>-1</td>\n",
       "      <td>1.002129</td>\n",
       "      <td>24073677.32</td>\n",
       "      <td>1.000859</td>\n",
       "      <td>1.001494</td>\n",
       "      <td>1.002129</td>\n",
       "      <td>250081.44</td>\n",
       "      <td>1.002447</td>\n",
       "      <td>300167.56</td>\n",
       "      <td>1.002274</td>\n",
       "      <td>-6.530285</td>\n",
       "      <td>0.078272</td>\n",
       "      <td>-0.091024</td>\n",
       "      <td>-0.854820</td>\n",
       "    </tr>\n",
       "  </tbody>\n",
       "</table>\n",
       "<p>5237980 rows × 17 columns</p>\n",
       "</div>"
      ],
      "text/plain": [
       "         stock_id  seconds_in_bucket  imbalance_size  imbalance_buy_sell_flag  \\\n",
       "0               0                  0      3180602.69                        1   \n",
       "1               1                  0       166603.91                       -1   \n",
       "2               2                  0       302879.87                       -1   \n",
       "3               3                  0     11917682.27                       -1   \n",
       "4               4                  0       447549.96                       -1   \n",
       "...           ...                ...             ...                      ...   \n",
       "5237975       195                540      2440722.89                       -1   \n",
       "5237976       196                540       349510.47                       -1   \n",
       "5237977       197                540            0.00                        0   \n",
       "5237978       198                540      1000898.84                        1   \n",
       "5237979       199                540      1884285.71                       -1   \n",
       "\n",
       "         reference_price  matched_size  far_price  near_price  bid_price  \\\n",
       "0               0.999812   13380276.64   0.000000    0.000000   0.999812   \n",
       "1               0.999896    1642214.25   0.000000    0.000000   0.999896   \n",
       "2               0.999561    1819368.03   0.000000    0.000000   0.999403   \n",
       "3               1.000171   18389745.62   0.000000    0.000000   0.999999   \n",
       "4               0.999532   17860614.95   0.000000    0.000000   0.999394   \n",
       "...                  ...           ...        ...         ...        ...   \n",
       "5237975         1.000317   28280361.74   0.999734    0.999734   1.000317   \n",
       "5237976         1.000643    9187699.11   1.000129    1.000386   1.000643   \n",
       "5237977         0.995789   12725436.10   0.995789    0.995789   0.995789   \n",
       "5237978         0.999210   94773271.05   0.999210    0.999210   0.998970   \n",
       "5237979         1.002129   24073677.32   1.000859    1.001494   1.002129   \n",
       "\n",
       "          bid_size  ask_price   ask_size       wap    target  imbalance_ratio  \\\n",
       "0         60651.50   1.000026    8493.03  1.000000 -3.029704         0.237708   \n",
       "1          3233.04   1.000660   20605.09  1.000000 -5.519986         0.101451   \n",
       "2         37956.00   1.000298   18995.00  1.000000 -8.389950         0.166475   \n",
       "3          2324.90   1.000214  479032.40  1.000000 -4.010200         0.648061   \n",
       "4         16485.54   1.000016     434.10  1.000000 -7.349849         0.025058   \n",
       "...            ...        ...        ...       ...       ...              ...   \n",
       "5237975   32257.04   1.000434  319862.40  1.000328  2.310276         0.086305   \n",
       "5237976  205108.40   1.000900   93393.07  1.000819 -8.220077         0.038041   \n",
       "5237977   16790.66   0.995883  180038.32  0.995797  1.169443         0.000000   \n",
       "5237978  125631.72   0.999210  669893.00  0.999008 -1.540184         0.010561   \n",
       "5237979  250081.44   1.002447  300167.56  1.002274 -6.530285         0.078272   \n",
       "\n",
       "         imbl_size1  imbl_size2  \n",
       "0          0.754340   -0.615890  \n",
       "1         -0.728751   -0.815787  \n",
       "2          0.332935   -0.714567  \n",
       "3         -0.990340   -0.213547  \n",
       "4          0.948687   -0.951109  \n",
       "...             ...         ...  \n",
       "5237975   -0.816784   -0.841104  \n",
       "5237976    0.374254   -0.926706  \n",
       "5237977   -0.829388   -1.000000  \n",
       "5237978   -0.684154   -0.979099  \n",
       "5237979   -0.091024   -0.854820  \n",
       "\n",
       "[5237980 rows x 17 columns]"
      ]
     },
     "execution_count": 16,
     "metadata": {},
     "output_type": "execute_result"
    }
   ],
   "source": [
    "df_train = pre_process1(df_train)\n",
    "df_train = feature_cols(df_train)\n",
    "df_train.fillna(0, inplace = True)\n",
    "df_train"
   ]
  },
  {
   "cell_type": "markdown",
   "id": "fad1c904",
   "metadata": {
    "papermill": {
     "duration": 0.01396,
     "end_time": "2023-11-06T05:26:12.144872",
     "exception": false,
     "start_time": "2023-11-06T05:26:12.130912",
     "status": "completed"
    },
    "tags": []
   },
   "source": [
    "# 5. Try to use \"diff\" #\n",
    "\n",
    "I tried to add Price diff for bid/ask-price of every time, since I remember the approach contributed to the improvement of score in Optiver's Volatility competition 2 years ago. However, the score unfortunatelly got worse to 5.3891, which is worse than Baseline. In my previous version, multiplication of Price-diff and Size-diff contributed to the score improvement, and hence I tried the same in this version also, but unfortunately doesn't work well. I am still considering how to utilize the \"diff\" of price or size, and would update this notebook if I come up with any good idea.  \n"
   ]
  },
  {
   "cell_type": "markdown",
   "id": "aba18bbe",
   "metadata": {
    "papermill": {
     "duration": 0.013969,
     "end_time": "2023-11-06T05:26:12.172747",
     "exception": false,
     "start_time": "2023-11-06T05:26:12.158778",
     "status": "completed"
    },
    "tags": []
   },
   "source": [
    "# 6. Add bid/ask ratio in size and price\n",
    "\n",
    "Approach to use \"diff\" didn't work well, but it seems imbalance-related new features work well, thus let's try to add ratio between bid and ask in price and size. The result is, public score was improved to **5.3834**, which is the best improvement so far. (For these new features, I refered to the above-mentioned link. Hoiwever, I didn't adopt the new features created by simple \"plus\" or \"minus\" of existing 2 features, since in my experiences I think those simple new features don't work. I guess simple plus/minus relationship between existing features are already considered by LGBM during study.)"
   ]
  },
  {
   "cell_type": "markdown",
   "id": "757a6bfd",
   "metadata": {
    "papermill": {
     "duration": 0.013851,
     "end_time": "2023-11-06T05:26:12.200760",
     "exception": false,
     "start_time": "2023-11-06T05:26:12.186909",
     "status": "completed"
    },
    "tags": []
   },
   "source": [
    "- unnecessary calculations - calculating the same value multiple times. For example, the following code calculates the imbalance ratio twice:\n",
    "  - df['imbl_size1'] = (df['bid_size']-df['ask_size']) / (df['bid_size']+df['ask_size'])\n",
    "  - df['imbl_size2'] = (df['imbalance_size']-df['matched_size']) / (df['imbalance_size']+df['matched_size'])\n",
    "  \n",
    "- caching. Caching can be used to store the results of expensive calculations, so that they can be reused later without having to recalculate them. \n"
   ]
  },
  {
   "cell_type": "code",
   "execution_count": 17,
   "id": "c854db81",
   "metadata": {
    "execution": {
     "iopub.execute_input": "2023-11-06T05:26:12.230218Z",
     "iopub.status.busy": "2023-11-06T05:26:12.229909Z",
     "iopub.status.idle": "2023-11-06T05:26:12.707152Z",
     "shell.execute_reply": "2023-11-06T05:26:12.706174Z"
    },
    "papermill": {
     "duration": 0.494875,
     "end_time": "2023-11-06T05:26:12.709515",
     "exception": false,
     "start_time": "2023-11-06T05:26:12.214640",
     "status": "completed"
    },
    "tags": []
   },
   "outputs": [],
   "source": [
    "x_train = feature_cols(df_train.drop(columns='target'))\n",
    "y_train = df_train['target'].values"
   ]
  },
  {
   "cell_type": "code",
   "execution_count": 18,
   "id": "6e5cd3ed",
   "metadata": {
    "execution": {
     "iopub.execute_input": "2023-11-06T05:26:12.739941Z",
     "iopub.status.busy": "2023-11-06T05:26:12.739638Z",
     "iopub.status.idle": "2023-11-06T05:26:12.744040Z",
     "shell.execute_reply": "2023-11-06T05:26:12.743168Z"
    },
    "papermill": {
     "duration": 0.021693,
     "end_time": "2023-11-06T05:26:12.745960",
     "exception": false,
     "start_time": "2023-11-06T05:26:12.724267",
     "status": "completed"
    },
    "tags": []
   },
   "outputs": [],
   "source": [
    "# import numpy as np\n",
    "# from sklearn.model_selection import GridSearchCV\n",
    "\n",
    "# param_grid = {\n",
    "#     'n_estimators': [500, 1000, 2000],\n",
    "#     'num_leaves': [25, 50, 100],\n",
    "#     'max_depth': [5, 7, 10]\n",
    "# }\n",
    "\n",
    "# grid_search = GridSearchCV(estimator=lgbm.LGBMRegressor(objective='mae'), param_grid=param_grid, cv=5)\n",
    "# grid_search.fit(x_train, y_train)\n",
    "\n",
    "# best_params = grid_search.best_params_\n",
    "\n",
    "# # Create and train a new model with the best hyperparameters\n",
    "# lgbm_model = lgbm.LGBMRegressor(objective='mae', **best_params)\n",
    "# lgbm_model.fit(x_train, y_train)\n"
   ]
  },
  {
   "cell_type": "code",
   "execution_count": 19,
   "id": "b61717ea",
   "metadata": {
    "_kg_hide-output": true,
    "execution": {
     "iopub.execute_input": "2023-11-06T05:26:12.776738Z",
     "iopub.status.busy": "2023-11-06T05:26:12.776471Z",
     "iopub.status.idle": "2023-11-06T05:26:12.780097Z",
     "shell.execute_reply": "2023-11-06T05:26:12.779348Z"
    },
    "papermill": {
     "duration": 0.02092,
     "end_time": "2023-11-06T05:26:12.781966",
     "exception": false,
     "start_time": "2023-11-06T05:26:12.761046",
     "status": "completed"
    },
    "tags": []
   },
   "outputs": [],
   "source": [
    "# !pip install hyperopt --upgrade"
   ]
  },
  {
   "cell_type": "code",
   "execution_count": 20,
   "id": "df287c34",
   "metadata": {
    "execution": {
     "iopub.execute_input": "2023-11-06T05:26:12.811423Z",
     "iopub.status.busy": "2023-11-06T05:26:12.811176Z",
     "iopub.status.idle": "2023-11-06T05:26:12.816247Z",
     "shell.execute_reply": "2023-11-06T05:26:12.815405Z"
    },
    "papermill": {
     "duration": 0.021855,
     "end_time": "2023-11-06T05:26:12.818367",
     "exception": false,
     "start_time": "2023-11-06T05:26:12.796512",
     "status": "completed"
    },
    "tags": []
   },
   "outputs": [],
   "source": [
    "# import hyperopt\n",
    "# from lightgbm import LGBMRegressor\n",
    "\n",
    "# def objective(params):\n",
    "#     model = LGBMRegressor(objective='mae',\n",
    "#                          n_estimators=params['n_estimators'],\n",
    "#                          num_leaves=params['num_leaves'],\n",
    "#                          max_depth=params['max_depth'])\n",
    "#     model.fit(x_train, y_train)\n",
    "#     y_pred = model.predict(x_train)\n",
    "#     mae = mean_absolute_error(y, y_pred)\n",
    "#     return mae\n",
    "\n",
    "# search_space = {\n",
    "#     'n_estimators': hyperopt.hp.choice('n_estimators', range(500, 1000)),\n",
    "#     'num_leaves': hyperopt.hp.choice('num_leaves', range(20, 50)),\n",
    "#     'max_depth': hyperopt.hp.choice('max_depth', range(5, 10))\n",
    "# }\n",
    "\n",
    "# trials = hyperopt.Trials()\n",
    "# best_hyperparams = hyperopt.fmin(objective, search_space, algo=hyperopt.tpe.suggest, max_evals=13, trials=trials)\n",
    "\n",
    "# best_hyperparams = trials.best_trial['misc']['vals']\n",
    "\n",
    "# lgbm_model = LGBMRegressor(objective='mae',\n",
    "#                             n_estimators=best_hyperparams['n_estimators'],\n",
    "#                             num_leaves=best_hyperparams['num_leaves'],\n",
    "#                             max_depth=best_hyperparams['max_depth'])\n",
    "# lgbm_model.fit(x_train, y_train)\n",
    "\n",
    "# y_pred = lgbm_model.predict(x_test)\n"
   ]
  },
  {
   "cell_type": "code",
   "execution_count": 21,
   "id": "ea671b64",
   "metadata": {
    "_kg_hide-output": true,
    "execution": {
     "iopub.execute_input": "2023-11-06T05:26:12.847359Z",
     "iopub.status.busy": "2023-11-06T05:26:12.847090Z",
     "iopub.status.idle": "2023-11-06T05:30:19.452540Z",
     "shell.execute_reply": "2023-11-06T05:30:19.451432Z"
    },
    "papermill": {
     "duration": 246.632106,
     "end_time": "2023-11-06T05:30:19.464490",
     "exception": false,
     "start_time": "2023-11-06T05:26:12.832384",
     "status": "completed"
    },
    "tags": []
   },
   "outputs": [
    {
     "name": "stdout",
     "output_type": "stream",
     "text": [
      "[LightGBM] [Warning] bagging_fraction is set=0.7, subsample=1.0 will be ignored. Current value: bagging_fraction=0.7\n",
      "[LightGBM] [Warning] feature_fraction is set=0.9, colsample_bytree=1.0 will be ignored. Current value: feature_fraction=0.9\n",
      "[LightGBM] [Warning] bagging_freq is set=10, subsample_freq=0 will be ignored. Current value: bagging_freq=10\n"
     ]
    },
    {
     "data": {
      "text/html": [
       "<style>#sk-container-id-2 {color: black;background-color: white;}#sk-container-id-2 pre{padding: 0;}#sk-container-id-2 div.sk-toggleable {background-color: white;}#sk-container-id-2 label.sk-toggleable__label {cursor: pointer;display: block;width: 100%;margin-bottom: 0;padding: 0.3em;box-sizing: border-box;text-align: center;}#sk-container-id-2 label.sk-toggleable__label-arrow:before {content: \"▸\";float: left;margin-right: 0.25em;color: #696969;}#sk-container-id-2 label.sk-toggleable__label-arrow:hover:before {color: black;}#sk-container-id-2 div.sk-estimator:hover label.sk-toggleable__label-arrow:before {color: black;}#sk-container-id-2 div.sk-toggleable__content {max-height: 0;max-width: 0;overflow: hidden;text-align: left;background-color: #f0f8ff;}#sk-container-id-2 div.sk-toggleable__content pre {margin: 0.2em;color: black;border-radius: 0.25em;background-color: #f0f8ff;}#sk-container-id-2 input.sk-toggleable__control:checked~div.sk-toggleable__content {max-height: 200px;max-width: 100%;overflow: auto;}#sk-container-id-2 input.sk-toggleable__control:checked~label.sk-toggleable__label-arrow:before {content: \"▾\";}#sk-container-id-2 div.sk-estimator input.sk-toggleable__control:checked~label.sk-toggleable__label {background-color: #d4ebff;}#sk-container-id-2 div.sk-label input.sk-toggleable__control:checked~label.sk-toggleable__label {background-color: #d4ebff;}#sk-container-id-2 input.sk-hidden--visually {border: 0;clip: rect(1px 1px 1px 1px);clip: rect(1px, 1px, 1px, 1px);height: 1px;margin: -1px;overflow: hidden;padding: 0;position: absolute;width: 1px;}#sk-container-id-2 div.sk-estimator {font-family: monospace;background-color: #f0f8ff;border: 1px dotted black;border-radius: 0.25em;box-sizing: border-box;margin-bottom: 0.5em;}#sk-container-id-2 div.sk-estimator:hover {background-color: #d4ebff;}#sk-container-id-2 div.sk-parallel-item::after {content: \"\";width: 100%;border-bottom: 1px solid gray;flex-grow: 1;}#sk-container-id-2 div.sk-label:hover label.sk-toggleable__label {background-color: #d4ebff;}#sk-container-id-2 div.sk-serial::before {content: \"\";position: absolute;border-left: 1px solid gray;box-sizing: border-box;top: 0;bottom: 0;left: 50%;z-index: 0;}#sk-container-id-2 div.sk-serial {display: flex;flex-direction: column;align-items: center;background-color: white;padding-right: 0.2em;padding-left: 0.2em;position: relative;}#sk-container-id-2 div.sk-item {position: relative;z-index: 1;}#sk-container-id-2 div.sk-parallel {display: flex;align-items: stretch;justify-content: center;background-color: white;position: relative;}#sk-container-id-2 div.sk-item::before, #sk-container-id-2 div.sk-parallel-item::before {content: \"\";position: absolute;border-left: 1px solid gray;box-sizing: border-box;top: 0;bottom: 0;left: 50%;z-index: -1;}#sk-container-id-2 div.sk-parallel-item {display: flex;flex-direction: column;z-index: 1;position: relative;background-color: white;}#sk-container-id-2 div.sk-parallel-item:first-child::after {align-self: flex-end;width: 50%;}#sk-container-id-2 div.sk-parallel-item:last-child::after {align-self: flex-start;width: 50%;}#sk-container-id-2 div.sk-parallel-item:only-child::after {width: 0;}#sk-container-id-2 div.sk-dashed-wrapped {border: 1px dashed gray;margin: 0 0.4em 0.5em 0.4em;box-sizing: border-box;padding-bottom: 0.4em;background-color: white;}#sk-container-id-2 div.sk-label label {font-family: monospace;font-weight: bold;display: inline-block;line-height: 1.2em;}#sk-container-id-2 div.sk-label-container {text-align: center;}#sk-container-id-2 div.sk-container {/* jupyter's `normalize.less` sets `[hidden] { display: none; }` but bootstrap.min.css set `[hidden] { display: none !important; }` so we also need the `!important` here to be able to override the default hidden behavior on the sphinx rendered scikit-learn.org. See: https://github.com/scikit-learn/scikit-learn/issues/21755 */display: inline-block !important;position: relative;}#sk-container-id-2 div.sk-text-repr-fallback {display: none;}</style><div id=\"sk-container-id-2\" class=\"sk-top-container\"><div class=\"sk-text-repr-fallback\"><pre>LGBMRegressor(bagging_fraction=0.7, bagging_freq=10, feature_fraction=0.9,\n",
       "              force_col_wise=&#x27;true&#x27;, learning_rate=0.005, max_bin=512,\n",
       "              max_depth=8, metric=[&#x27;l1&#x27;, &#x27;l2&#x27;], num_iterations=1000,\n",
       "              num_leaves=20, objective=&#x27;regression&#x27;, task=&#x27;train&#x27;, verbose=0)</pre><b>In a Jupyter environment, please rerun this cell to show the HTML representation or trust the notebook. <br />On GitHub, the HTML representation is unable to render, please try loading this page with nbviewer.org.</b></div><div class=\"sk-container\" hidden><div class=\"sk-item\"><div class=\"sk-estimator sk-toggleable\"><input class=\"sk-toggleable__control sk-hidden--visually\" id=\"sk-estimator-id-2\" type=\"checkbox\" checked><label for=\"sk-estimator-id-2\" class=\"sk-toggleable__label sk-toggleable__label-arrow\">LGBMRegressor</label><div class=\"sk-toggleable__content\"><pre>LGBMRegressor(bagging_fraction=0.7, bagging_freq=10, feature_fraction=0.9,\n",
       "              force_col_wise=&#x27;true&#x27;, learning_rate=0.005, max_bin=512,\n",
       "              max_depth=8, metric=[&#x27;l1&#x27;, &#x27;l2&#x27;], num_iterations=1000,\n",
       "              num_leaves=20, objective=&#x27;regression&#x27;, task=&#x27;train&#x27;, verbose=0)</pre></div></div></div></div></div>"
      ],
      "text/plain": [
       "LGBMRegressor(bagging_fraction=0.7, bagging_freq=10, feature_fraction=0.9,\n",
       "              force_col_wise='true', learning_rate=0.005, max_bin=512,\n",
       "              max_depth=8, metric=['l1', 'l2'], num_iterations=1000,\n",
       "              num_leaves=20, objective='regression', task='train', verbose=0)"
      ]
     },
     "execution_count": 21,
     "metadata": {},
     "output_type": "execute_result"
    }
   ],
   "source": [
    "params = {\n",
    "    'task': 'train',\n",
    "    'boosting_type': 'gbdt',\n",
    "    'objective': 'regression',\n",
    "    'metric': ['l1','l2'],\n",
    "    'learning_rate': 0.005,\n",
    "    'feature_fraction': 0.9,\n",
    "    'bagging_fraction': 0.7,\n",
    "    'bagging_freq': 10,\n",
    "    'verbose': 0,\n",
    "    \"max_depth\": 8,\n",
    "    \"num_leaves\": 20,  \n",
    "    \"max_bin\": 512,\n",
    "    \"num_iterations\": 1000,\n",
    "    \"force_col_wise\": 'true'\n",
    "}\n",
    "\n",
    "lgbm_model = lgbm.LGBMRegressor(**params)\n",
    "lgbm_model.fit(x_train, y_train)"
   ]
  },
  {
   "cell_type": "code",
   "execution_count": 22,
   "id": "a077d093",
   "metadata": {
    "execution": {
     "iopub.execute_input": "2023-11-06T05:30:19.496162Z",
     "iopub.status.busy": "2023-11-06T05:30:19.495859Z",
     "iopub.status.idle": "2023-11-06T05:30:19.499968Z",
     "shell.execute_reply": "2023-11-06T05:30:19.499102Z"
    },
    "papermill": {
     "duration": 0.021758,
     "end_time": "2023-11-06T05:30:19.502014",
     "exception": false,
     "start_time": "2023-11-06T05:30:19.480256",
     "status": "completed"
    },
    "tags": []
   },
   "outputs": [],
   "source": [
    "# import xgboost as xgb\n",
    "\n",
    "# # Create an XGBoost regressor\n",
    "# xgb_model = xgb.XGBRegressor(objective='reg:squarederror',\n",
    "#                              n_estimators=895,\n",
    "#                              max_depth=7)\n",
    "\n",
    "# # Train the model\n",
    "# xgb_model.fit(x_train, y_train)\n",
    "\n",
    "# xgb.plot_importance(xgb_model)"
   ]
  },
  {
   "cell_type": "code",
   "execution_count": 23,
   "id": "845c2d34",
   "metadata": {
    "execution": {
     "iopub.execute_input": "2023-11-06T05:30:19.532020Z",
     "iopub.status.busy": "2023-11-06T05:30:19.531774Z",
     "iopub.status.idle": "2023-11-06T05:30:42.018706Z",
     "shell.execute_reply": "2023-11-06T05:30:42.017739Z"
    },
    "papermill": {
     "duration": 22.504278,
     "end_time": "2023-11-06T05:30:42.020766",
     "exception": false,
     "start_time": "2023-11-06T05:30:19.516488",
     "status": "completed"
    },
    "tags": []
   },
   "outputs": [
    {
     "data": {
      "image/png": "[encoded data removed]",
      "text/plain": [
       "<Figure size 640x480 with 1 Axes>"
      ]
     },
     "metadata": {},
     "output_type": "display_data"
    }
   ],
   "source": [
    "import xgboost as xgb\n",
    "# Create an XGBoost regressor with the gpu_hist tree construction algorithm\n",
    "xgb_model = xgb.XGBRegressor(objective='reg:squarederror',\n",
    "                             n_estimators=895,\n",
    "                             max_depth=7,\n",
    "                             tree_method='gpu_hist')\n",
    "\n",
    "# Train the model\n",
    "xgb_model.fit(x_train, y_train)\n",
    "\n",
    "# Plot the feature importances\n",
    "xgb.plot_importance(xgb_model)\n",
    "\n",
    "# Save the model\n",
    "xgb_model.save_model('xgb_model.bin')\n",
    "# Save as JSON file\n",
    "xgb_model.save_model(\"xgb_model.json\")\n",
    "# Save as TXT file\n",
    "xgb_model.save_model(\"xgb_model.txt\")"
   ]
  },
  {
   "cell_type": "code",
   "execution_count": 24,
   "id": "2747e010",
   "metadata": {
    "execution": {
     "iopub.execute_input": "2023-11-06T05:30:42.053116Z",
     "iopub.status.busy": "2023-11-06T05:30:42.052794Z",
     "iopub.status.idle": "2023-11-06T05:30:42.056576Z",
     "shell.execute_reply": "2023-11-06T05:30:42.055813Z"
    },
    "papermill": {
     "duration": 0.021887,
     "end_time": "2023-11-06T05:30:42.058377",
     "exception": false,
     "start_time": "2023-11-06T05:30:42.036490",
     "status": "completed"
    },
    "tags": []
   },
   "outputs": [],
   "source": [
    "# # Make predictions on the test data\n",
    "# y_pred = xgb_model.predict(X_test)"
   ]
  },
  {
   "cell_type": "code",
   "execution_count": 25,
   "id": "33c28005",
   "metadata": {
    "execution": {
     "iopub.execute_input": "2023-11-06T05:30:42.090319Z",
     "iopub.status.busy": "2023-11-06T05:30:42.090049Z",
     "iopub.status.idle": "2023-11-06T05:30:42.093742Z",
     "shell.execute_reply": "2023-11-06T05:30:42.093006Z"
    },
    "papermill": {
     "duration": 0.021619,
     "end_time": "2023-11-06T05:30:42.095619",
     "exception": false,
     "start_time": "2023-11-06T05:30:42.074000",
     "status": "completed"
    },
    "tags": []
   },
   "outputs": [],
   "source": [
    "# lgbm_model = lgbm.LGBMRegressor(objective='mae',\n",
    "#                                 n_estimators=895,\n",
    "#                                 num_leaves= 25,\n",
    "#                                 max_depth= 7)\n",
    "# lgbm_model.fit(x_train, y_train)"
   ]
  },
  {
   "cell_type": "code",
   "execution_count": 26,
   "id": "abfc838e",
   "metadata": {
    "execution": {
     "iopub.execute_input": "2023-11-06T05:30:42.127071Z",
     "iopub.status.busy": "2023-11-06T05:30:42.126809Z",
     "iopub.status.idle": "2023-11-06T05:30:42.130405Z",
     "shell.execute_reply": "2023-11-06T05:30:42.129613Z"
    },
    "papermill": {
     "duration": 0.021577,
     "end_time": "2023-11-06T05:30:42.132247",
     "exception": false,
     "start_time": "2023-11-06T05:30:42.110670",
     "status": "completed"
    },
    "tags": []
   },
   "outputs": [],
   "source": [
    "# from sklearn.ensemble import RandomForestRegressor\n",
    "\n",
    "# rf_model = RandomForestRegressor(n_estimators=895,\n",
    "#                                 max_depth= 8,criterion=\"squared_error\",bootstrap=True)\n",
    "# rf_model.fit(x_train, y_train)"
   ]
  },
  {
   "cell_type": "code",
   "execution_count": 27,
   "id": "c3924b11",
   "metadata": {
    "execution": {
     "iopub.execute_input": "2023-11-06T05:30:42.163699Z",
     "iopub.status.busy": "2023-11-06T05:30:42.163401Z",
     "iopub.status.idle": "2023-11-06T05:30:42.615507Z",
     "shell.execute_reply": "2023-11-06T05:30:42.614584Z"
    },
    "papermill": {
     "duration": 0.470205,
     "end_time": "2023-11-06T05:30:42.617574",
     "exception": false,
     "start_time": "2023-11-06T05:30:42.147369",
     "status": "completed"
    },
    "tags": []
   },
   "outputs": [
    {
     "data": {
      "text/plain": [
       "<Axes: title={'center': 'Feature importance'}, xlabel='Feature importance', ylabel='Features'>"
      ]
     },
     "execution_count": 27,
     "metadata": {},
     "output_type": "execute_result"
    },
    {
     "data": {
      "image/png": "[encoded data removed]",
      "text/plain": [
       "<Figure size 640x480 with 1 Axes>"
      ]
     },
     "metadata": {},
     "output_type": "display_data"
    }
   ],
   "source": [
    "lgbm.plot_importance(lgbm_model, importance_type=\"gain\")"
   ]
  },
  {
   "cell_type": "markdown",
   "id": "c3eb0910",
   "metadata": {
    "papermill": {
     "duration": 0.016468,
     "end_time": "2023-11-06T05:30:42.650963",
     "exception": false,
     "start_time": "2023-11-06T05:30:42.634495",
     "status": "completed"
    },
    "tags": []
   },
   "source": [
    "# 7. Submission\n",
    "\n",
    "As I said, this notebook is just a starter, and thus I'll submit at this point.   \n",
    "In this competition, API provided by kaggle should be used.  "
   ]
  },
  {
   "cell_type": "code",
   "execution_count": 28,
   "id": "c2c79b32",
   "metadata": {
    "execution": {
     "iopub.execute_input": "2023-11-06T05:30:42.686900Z",
     "iopub.status.busy": "2023-11-06T05:30:42.686113Z",
     "iopub.status.idle": "2023-11-06T05:30:42.712093Z",
     "shell.execute_reply": "2023-11-06T05:30:42.711371Z"
    },
    "papermill": {
     "duration": 0.045371,
     "end_time": "2023-11-06T05:30:42.713976",
     "exception": false,
     "start_time": "2023-11-06T05:30:42.668605",
     "status": "completed"
    },
    "tags": []
   },
   "outputs": [],
   "source": [
    "import optiver2023\n",
    "env = optiver2023.make_env()\n",
    "iter_test = env.iter_test()"
   ]
  },
  {
   "cell_type": "code",
   "execution_count": 29,
   "id": "8ae6ec7c",
   "metadata": {
    "execution": {
     "iopub.execute_input": "2023-11-06T05:30:42.749091Z",
     "iopub.status.busy": "2023-11-06T05:30:42.748814Z",
     "iopub.status.idle": "2023-11-06T05:30:42.752708Z",
     "shell.execute_reply": "2023-11-06T05:30:42.751877Z"
    },
    "papermill": {
     "duration": 0.023817,
     "end_time": "2023-11-06T05:30:42.754684",
     "exception": false,
     "start_time": "2023-11-06T05:30:42.730867",
     "status": "completed"
    },
    "tags": []
   },
   "outputs": [],
   "source": [
    "# counter = 0\n",
    "# for (test, revealed_targets, sample_prediction) in iter_test:\n",
    "#     test = pre_process1(test)\n",
    "#     test_df = feature_cols(test)\n",
    "#     sample_prediction['target'] = lgbm_model.predict(test_df)\n",
    "#     env.predict(sample_prediction)\n",
    "    \n",
    "#     counter += 1"
   ]
  },
  {
   "cell_type": "code",
   "execution_count": 30,
   "id": "7f337f78",
   "metadata": {
    "execution": {
     "iopub.execute_input": "2023-11-06T05:30:42.789061Z",
     "iopub.status.busy": "2023-11-06T05:30:42.788758Z",
     "iopub.status.idle": "2023-11-06T05:30:44.716842Z",
     "shell.execute_reply": "2023-11-06T05:30:44.715849Z"
    },
    "papermill": {
     "duration": 1.947777,
     "end_time": "2023-11-06T05:30:44.719125",
     "exception": false,
     "start_time": "2023-11-06T05:30:42.771348",
     "status": "completed"
    },
    "tags": []
   },
   "outputs": [
    {
     "name": "stdout",
     "output_type": "stream",
     "text": [
      "This version of the API is not optimized and should not be used to estimate the runtime of your code on the hidden test set.\n"
     ]
    }
   ],
   "source": [
    "# basic edits\n",
    "counter = 0\n",
    "for (test, revealed_targets, sample_prediction) in iter_test:\n",
    "    test = pre_process1(test)\n",
    "    test_df = feature_cols(test)\n",
    "    sample_prediction['target'] = xgb_model.predict(test_df)\n",
    "    env.predict(sample_prediction)\n",
    "    \n",
    "    counter += 1"
   ]
  },
  {
   "cell_type": "code",
   "execution_count": 31,
   "id": "401ee3ae",
   "metadata": {
    "execution": {
     "iopub.execute_input": "2023-11-06T05:30:44.754174Z",
     "iopub.status.busy": "2023-11-06T05:30:44.753873Z",
     "iopub.status.idle": "2023-11-06T05:30:44.765902Z",
     "shell.execute_reply": "2023-11-06T05:30:44.765008Z"
    },
    "papermill": {
     "duration": 0.031529,
     "end_time": "2023-11-06T05:30:44.767793",
     "exception": false,
     "start_time": "2023-11-06T05:30:44.736264",
     "status": "completed"
    },
    "tags": []
   },
   "outputs": [
    {
     "data": {
      "text/html": [
       "<div>\n",
       "<style scoped>\n",
       "    .dataframe tbody tr th:only-of-type {\n",
       "        vertical-align: middle;\n",
       "    }\n",
       "\n",
       "    .dataframe tbody tr th {\n",
       "        vertical-align: top;\n",
       "    }\n",
       "\n",
       "    .dataframe thead th {\n",
       "        text-align: right;\n",
       "    }\n",
       "</style>\n",
       "<table border=\"1\" class=\"dataframe\">\n",
       "  <thead>\n",
       "    <tr style=\"text-align: right;\">\n",
       "      <th></th>\n",
       "      <th>row_id</th>\n",
       "      <th>target</th>\n",
       "    </tr>\n",
       "  </thead>\n",
       "  <tbody>\n",
       "    <tr>\n",
       "      <th>0</th>\n",
       "      <td>480_540_0</td>\n",
       "      <td>-1.712622</td>\n",
       "    </tr>\n",
       "    <tr>\n",
       "      <th>1</th>\n",
       "      <td>480_540_1</td>\n",
       "      <td>2.254375</td>\n",
       "    </tr>\n",
       "    <tr>\n",
       "      <th>2</th>\n",
       "      <td>480_540_2</td>\n",
       "      <td>1.887509</td>\n",
       "    </tr>\n",
       "    <tr>\n",
       "      <th>3</th>\n",
       "      <td>480_540_3</td>\n",
       "      <td>-0.498100</td>\n",
       "    </tr>\n",
       "    <tr>\n",
       "      <th>4</th>\n",
       "      <td>480_540_4</td>\n",
       "      <td>-1.492800</td>\n",
       "    </tr>\n",
       "    <tr>\n",
       "      <th>...</th>\n",
       "      <td>...</td>\n",
       "      <td>...</td>\n",
       "    </tr>\n",
       "    <tr>\n",
       "      <th>195</th>\n",
       "      <td>480_540_195</td>\n",
       "      <td>-2.411422</td>\n",
       "    </tr>\n",
       "    <tr>\n",
       "      <th>196</th>\n",
       "      <td>480_540_196</td>\n",
       "      <td>-1.656932</td>\n",
       "    </tr>\n",
       "    <tr>\n",
       "      <th>197</th>\n",
       "      <td>480_540_197</td>\n",
       "      <td>1.871353</td>\n",
       "    </tr>\n",
       "    <tr>\n",
       "      <th>198</th>\n",
       "      <td>480_540_198</td>\n",
       "      <td>2.235493</td>\n",
       "    </tr>\n",
       "    <tr>\n",
       "      <th>199</th>\n",
       "      <td>480_540_199</td>\n",
       "      <td>-6.355705</td>\n",
       "    </tr>\n",
       "  </tbody>\n",
       "</table>\n",
       "<p>200 rows × 2 columns</p>\n",
       "</div>"
      ],
      "text/plain": [
       "          row_id    target\n",
       "0      480_540_0 -1.712622\n",
       "1      480_540_1  2.254375\n",
       "2      480_540_2  1.887509\n",
       "3      480_540_3 -0.498100\n",
       "4      480_540_4 -1.492800\n",
       "..           ...       ...\n",
       "195  480_540_195 -2.411422\n",
       "196  480_540_196 -1.656932\n",
       "197  480_540_197  1.871353\n",
       "198  480_540_198  2.235493\n",
       "199  480_540_199 -6.355705\n",
       "\n",
       "[200 rows x 2 columns]"
      ]
     },
     "execution_count": 31,
     "metadata": {},
     "output_type": "execute_result"
    }
   ],
   "source": [
    "sample_prediction"
   ]
  },
  {
   "cell_type": "code",
   "execution_count": null,
   "id": "4221d40f",
   "metadata": {
    "papermill": {
     "duration": 0.016669,
     "end_time": "2023-11-06T05:30:44.801239",
     "exception": false,
     "start_time": "2023-11-06T05:30:44.784570",
     "status": "completed"
    },
    "tags": []
   },
   "outputs": [],
   "source": []
  }
 ],
 "metadata": {
  "kernelspec": {
   "display_name": "Python 3",
   "language": "python",
   "name": "python3"
  },
  "language_info": {
   "codemirror_mode": {
    "name": "ipython",
    "version": 3
   },
   "file_extension": ".py",
   "mimetype": "text/x-python",
   "name": "python",
   "nbconvert_exporter": "python",
   "pygments_lexer": "ipython3",
   "version": "3.10.12"
  },
  "papermill": {
   "default_parameters": {},
   "duration": 447.432803,
   "end_time": "2023-11-06T05:30:46.241536",
   "environment_variables": {},
   "exception": null,
   "input_path": "__notebook__.ipynb",
   "output_path": "__notebook__.ipynb",
   "parameters": {},
   "start_time": "2023-11-06T05:23:18.808733",
   "version": "2.4.0"
  }
 },
 "nbformat": 4,
 "nbformat_minor": 5
}
