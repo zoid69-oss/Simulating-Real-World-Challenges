{
 "cells": [
  {
   "cell_type": "markdown",
   "id": "a664ba79-4268-4319-853d-77efac1c4080",
   "metadata": {},
   "source": [
    "# Import Libraries"
   ]
  },
  {
   "cell_type": "code",
   "execution_count": 1,
   "id": "5b32fc17-75c2-493a-a242-978f0efffcf7",
   "metadata": {
    "tags": []
   },
   "outputs": [],
   "source": [
    "import yfinance as yf\n",
    "import pandas as pd\n",
    "import numpy as np\n",
    "from sklearn.model_selection import train_test_split\n",
    "from sklearn.linear_model import LinearRegression\n",
    "from sklearn.metrics import mean_squared_error, r2_score\n",
    "from scipy.stats import pearsonr\n",
    "import matplotlib.pyplot as plt"
   ]
  },
  {
   "cell_type": "markdown",
   "id": "71900256-b7b4-4976-bc19-a1e46b08b65f",
   "metadata": {},
   "source": [
    "# Download Historical Data"
   ]
  },
  {
   "cell_type": "code",
   "execution_count": 2,
   "id": "3d2b301b-9370-44fd-8396-20a63dcf3f5b",
   "metadata": {
    "tags": []
   },
   "outputs": [
    {
     "name": "stdout",
     "output_type": "stream",
     "text": [
      "[*********************100%***********************]  1 of 1 completed\n",
      "[*********************100%***********************]  1 of 1 completed\n",
      "[*********************100%***********************]  1 of 1 completed\n"
     ]
    }
   ],
   "source": [
    "def download_data(tickers, start_date, end_date):\n",
    "    data = {}\n",
    "    for ticker in tickers:\n",
    "        data[ticker] = yf.download(ticker, start=start_date, end=end_date)\n",
    "    return data\n",
    "\n",
    "tickers = ['AAPL', 'MSFT', 'GOOGL']  # Example tickers\n",
    "start_date = '2010-01-01'\n",
    "end_date = '2020-01-01'\n",
    "data = download_data(tickers, start_date, end_date)"
   ]
  },
  {
   "cell_type": "markdown",
   "id": "616a0133-d7aa-4ac4-8bd6-c4e6a633764a",
   "metadata": {},
   "source": [
    "# Preprocess Data"
   ]
  },
  {
   "cell_type": "code",
   "execution_count": 3,
   "id": "830cc2b7-af51-48bb-bea0-b2fa000c18c6",
   "metadata": {
    "tags": []
   },
   "outputs": [],
   "source": [
    "def preprocess_data(data):\n",
    "    returns = {}\n",
    "    for ticker, df in data.items():\n",
    "        df['Return'] = df['Adj Close'].pct_change()\n",
    "        returns[ticker] = df['Return'].dropna()\n",
    "    return returns\n",
    "\n",
    "returns = preprocess_data(data)"
   ]
  },
  {
   "cell_type": "markdown",
   "id": "6c73e590-61f4-4700-8f2d-beb30e57d30c",
   "metadata": {},
   "source": [
    "# Feature Engineering"
   ]
  },
  {
   "cell_type": "code",
   "execution_count": 4,
   "id": "047e48fe-6764-493c-b5b6-2e99b6cf0d2f",
   "metadata": {
    "tags": []
   },
   "outputs": [],
   "source": [
    "def create_features(df, lag=5):\n",
    "    for i in range(1, lag+1):\n",
    "        df[f'Lag_{i}'] = df['Return'].shift(i)\n",
    "    df = df.dropna()\n",
    "    return df\n",
    "\n",
    "features = {}\n",
    "for ticker, return_series in returns.items():\n",
    "    features[ticker] = create_features(return_series.to_frame())"
   ]
  },
  {
   "cell_type": "markdown",
   "id": "01186c14-5060-4254-9337-efbe201a1dc6",
   "metadata": {},
   "source": [
    "# Split Data"
   ]
  },
  {
   "cell_type": "code",
   "execution_count": 5,
   "id": "3399be53-feb3-47e7-b72d-9cfea2abac44",
   "metadata": {
    "tags": []
   },
   "outputs": [],
   "source": [
    "def split_data(df, test_size=0.2):\n",
    "    X = df.drop(columns=['Return'])\n",
    "    y = df['Return']\n",
    "    X_train, X_test, y_train, y_test = train_test_split(X, y, test_size=test_size, shuffle=False)\n",
    "    return X_train, X_test, y_train, y_test\n",
    "\n",
    "split_data_dict = {}\n",
    "for ticker, df in features.items():\n",
    "    split_data_dict[ticker] = split_data(df)"
   ]
  },
  {
   "cell_type": "markdown",
   "id": "7e0c7a2a-2094-4ea4-91d9-1ba61bfec1e6",
   "metadata": {},
   "source": [
    "# Train Model"
   ]
  }
 ],
 "metadata": {
  "kernelspec": {
   "display_name": "Python 3 (ipykernel)",
   "language": "python",
   "name": "python3"
  },
  "language_info": {
   "codemirror_mode": {
    "name": "ipython",
    "version": 3
   },
   "file_extension": ".py",
   "mimetype": "text/x-python",
   "name": "python",
   "nbconvert_exporter": "python",
   "pygments_lexer": "ipython3",
   "version": "3.11.3"
  }
 },
 "nbformat": 4,
 "nbformat_minor": 5
}
